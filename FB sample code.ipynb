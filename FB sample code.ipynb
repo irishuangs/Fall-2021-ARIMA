{
 "cells": [
  {
   "cell_type": "code",
   "execution_count": 4,
   "id": "2517e0e0",
   "metadata": {},
   "outputs": [
    {
     "name": "stdout",
     "output_type": "stream",
     "text": [
      "Requirement already satisfied: pystan==2.19.1.1 in c:\\users\\14159\\miniconda3\\lib\\site-packages (2.19.1.1)\n",
      "Requirement already satisfied: numpy>=1.7 in c:\\users\\14159\\miniconda3\\lib\\site-packages (from pystan==2.19.1.1) (1.20.1)\n",
      "Requirement already satisfied: Cython!=0.25.1,>=0.22 in c:\\users\\14159\\miniconda3\\lib\\site-packages (from pystan==2.19.1.1) (0.29.24)\n"
     ]
    }
   ],
   "source": [
    "!pip install pystan==2.19.1.1"
   ]
  },
  {
   "cell_type": "markdown",
   "id": "5f7e7546",
   "metadata": {},
   "source": [
    "use conda to install prophet and plotly to environment\n",
    "```conda install -c conda-forge fbprophet -y\n",
    "conda install plotly -y```\n",
    "\n",
    "\n",
    "Make text ITALIC: *Italic*\n",
    "Make text BOLD: **Bold**\n",
    "List item as a bullet: dash and space -\n",
    "List item as a number: Simple as number and dot 1.\n",
    "Indenting text: Greater than and space >\n",
    "Inline code span: Back quotation mark \" ` \"\n",
    "Block of code: Triple back quotation marks \" ``` \"\n",
    "Link a section: [Title of Section](#title-of-section)\n",
    "Hyperlink: [Text](URL)"
   ]
  },
  {
   "cell_type": "code",
   "execution_count": 34,
   "id": "354ad1be",
   "metadata": {},
   "outputs": [],
   "source": [
    "import fbprophet"
   ]
  },
  {
   "cell_type": "code",
   "execution_count": 4,
   "id": "13c3da76",
   "metadata": {},
   "outputs": [
    {
     "name": "stdout",
     "output_type": "stream",
     "text": [
      "Prophet 0.7.1\n"
     ]
    }
   ],
   "source": [
    "print('Prophet %s' % fbprophet.__version__)"
   ]
  },
  {
   "cell_type": "code",
   "execution_count": 29,
   "id": "ba6a3be4",
   "metadata": {},
   "outputs": [],
   "source": [
    "import pandas as pd\n",
    "from pandas import read_csv\n",
    "from pandas import to_datetime"
   ]
  },
  {
   "cell_type": "code",
   "execution_count": 14,
   "id": "a434ee53",
   "metadata": {},
   "outputs": [],
   "source": [
    "df = pd.read_csv(r'data\\NASDAQ-1-YEAR- DAILY.csv')"
   ]
  },
  {
   "cell_type": "code",
   "execution_count": 18,
   "id": "d6a197e2",
   "metadata": {},
   "outputs": [
    {
     "data": {
      "text/plain": [
       "<AxesSubplot:>"
      ]
     },
     "execution_count": 18,
     "metadata": {},
     "output_type": "execute_result"
    },
    {
     "data": {
      "image/png": "[encoded data removed]",
      "text/plain": [
       "<Figure size 432x288 with 1 Axes>"
      ]
     },
     "metadata": {
      "needs_background": "light"
     },
     "output_type": "display_data"
    }
   ],
   "source": [
    "df.plot(y=\"Adj Close\")"
   ]
  },
  {
   "cell_type": "code",
   "execution_count": 23,
   "id": "9aeffb45",
   "metadata": {},
   "outputs": [
    {
     "data": {
      "text/html": [
       "<div>\n",
       "<style scoped>\n",
       "    .dataframe tbody tr th:only-of-type {\n",
       "        vertical-align: middle;\n",
       "    }\n",
       "\n",
       "    .dataframe tbody tr th {\n",
       "        vertical-align: top;\n",
       "    }\n",
       "\n",
       "    .dataframe thead th {\n",
       "        text-align: right;\n",
       "    }\n",
       "</style>\n",
       "<table border=\"1\" class=\"dataframe\">\n",
       "  <thead>\n",
       "    <tr style=\"text-align: right;\">\n",
       "      <th></th>\n",
       "      <th>Date</th>\n",
       "      <th>Open</th>\n",
       "      <th>High</th>\n",
       "      <th>Low</th>\n",
       "      <th>Close</th>\n",
       "      <th>Adj Close</th>\n",
       "      <th>Volume</th>\n",
       "    </tr>\n",
       "  </thead>\n",
       "  <tbody>\n",
       "    <tr>\n",
       "      <th>0</th>\n",
       "      <td>2020-09-08</td>\n",
       "      <td>10900.700195</td>\n",
       "      <td>11131.500000</td>\n",
       "      <td>10837.200195</td>\n",
       "      <td>10847.690430</td>\n",
       "      <td>10847.690430</td>\n",
       "      <td>3872230000</td>\n",
       "    </tr>\n",
       "    <tr>\n",
       "      <th>1</th>\n",
       "      <td>2020-09-09</td>\n",
       "      <td>11064.759766</td>\n",
       "      <td>11217.690430</td>\n",
       "      <td>10970.450195</td>\n",
       "      <td>11141.559570</td>\n",
       "      <td>11141.559570</td>\n",
       "      <td>3531780000</td>\n",
       "    </tr>\n",
       "    <tr>\n",
       "      <th>2</th>\n",
       "      <td>2020-09-10</td>\n",
       "      <td>11235.530273</td>\n",
       "      <td>11299.530273</td>\n",
       "      <td>10875.019531</td>\n",
       "      <td>10919.589844</td>\n",
       "      <td>10919.589844</td>\n",
       "      <td>3814100000</td>\n",
       "    </tr>\n",
       "    <tr>\n",
       "      <th>3</th>\n",
       "      <td>2020-09-11</td>\n",
       "      <td>11010.070313</td>\n",
       "      <td>11033.040039</td>\n",
       "      <td>10728.030273</td>\n",
       "      <td>10853.549805</td>\n",
       "      <td>10853.549805</td>\n",
       "      <td>3609190000</td>\n",
       "    </tr>\n",
       "    <tr>\n",
       "      <th>4</th>\n",
       "      <td>2020-09-14</td>\n",
       "      <td>11010.139648</td>\n",
       "      <td>11118.290039</td>\n",
       "      <td>10982.259766</td>\n",
       "      <td>11056.650391</td>\n",
       "      <td>11056.650391</td>\n",
       "      <td>3716820000</td>\n",
       "    </tr>\n",
       "  </tbody>\n",
       "</table>\n",
       "</div>"
      ],
      "text/plain": [
       "         Date          Open          High           Low         Close  \\\n",
       "0  2020-09-08  10900.700195  11131.500000  10837.200195  10847.690430   \n",
       "1  2020-09-09  11064.759766  11217.690430  10970.450195  11141.559570   \n",
       "2  2020-09-10  11235.530273  11299.530273  10875.019531  10919.589844   \n",
       "3  2020-09-11  11010.070313  11033.040039  10728.030273  10853.549805   \n",
       "4  2020-09-14  11010.139648  11118.290039  10982.259766  11056.650391   \n",
       "\n",
       "      Adj Close      Volume  \n",
       "0  10847.690430  3872230000  \n",
       "1  11141.559570  3531780000  \n",
       "2  10919.589844  3814100000  \n",
       "3  10853.549805  3609190000  \n",
       "4  11056.650391  3716820000  "
      ]
     },
     "execution_count": 23,
     "metadata": {},
     "output_type": "execute_result"
    }
   ],
   "source": [
    "df.head()"
   ]
  },
  {
   "cell_type": "code",
   "execution_count": 27,
   "id": "a00a203c",
   "metadata": {},
   "outputs": [],
   "source": [
    "dfAdjClose = df[['Date', 'Adj Close']]"
   ]
  },
  {
   "cell_type": "code",
   "execution_count": 40,
   "id": "907ca5f0",
   "metadata": {},
   "outputs": [
    {
     "name": "stderr",
     "output_type": "stream",
     "text": [
      "INFO:fbprophet:Disabling yearly seasonality. Run prophet with yearly_seasonality=True to override this.\n",
      "INFO:fbprophet:Disabling daily seasonality. Run prophet with daily_seasonality=True to override this.\n"
     ]
    },
    {
     "data": {
      "text/plain": [
       "<fbprophet.forecaster.Prophet at 0x290ea866c70>"
      ]
     },
     "execution_count": 40,
     "metadata": {},
     "output_type": "execute_result"
    }
   ],
   "source": [
    "dfAdjClose.columns = ['ds', 'y']\n",
    "# define the model\n",
    "model = fbprophet.Prophet()\n",
    "# fit the model\n",
    "model.fit(dfAdjClose)"
   ]
  }
 ],
 "metadata": {
  "kernelspec": {
   "display_name": "venevlkernel",
   "language": "python",
   "name": "venevlkernel"
  },
  "language_info": {
   "codemirror_mode": {
    "name": "ipython",
    "version": 3
   },
   "file_extension": ".py",
   "mimetype": "text/x-python",
   "name": "python",
   "nbconvert_exporter": "python",
   "pygments_lexer": "ipython3",
   "version": "3.8.5"
  }
 },
 "nbformat": 4,
 "nbformat_minor": 5
}
